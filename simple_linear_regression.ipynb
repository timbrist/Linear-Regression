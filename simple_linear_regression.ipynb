{
 "cells": [
  {
   "attachments": {},
   "cell_type": "markdown",
   "metadata": {},
   "source": [
    "# Simple Liear Regression\n",
    "Shengheng Yan\n",
    "\n",
    "we will discuss the simplest example with real data and only consider x and y, 2 dimension. "
   ]
  },
  {
   "attachments": {},
   "cell_type": "markdown",
   "metadata": {},
   "source": [
    "## Example\n",
    "\n",
    "Let's say we have data of hours that student put into study and grade they get, like below table.\n",
    "our question is if we have new data of the hours that student put into study can we predict how much grade she/he will get?\n",
    "\n",
    "| hours(x) | 1.1 | 2.5 | 2.7 | 3.2 | 5.5 | 7.7 | 8.9 | 9.2 |\n",
    "|----------|-----|-----|-----|-----|-----|-----|-----|-----|\n",
    "| grade(y) | 17  | 21  | 30  | 27  | 60  | 85  | 88  | 95  |\n",
    "\n",
    "we assume grade $Y$ and $X$ has some kind of relationshipt which the more hours students puts the more grade they will get. So we can formulate a linear function. we call it <b>prediction function</b>.\n",
    "\n",
    "$$\\begin{align}\n",
    "& f(x;w,b) = wx+b \n",
    "\\end{align}$$\n",
    "where $w$ is the weight, and $b$ is the bias.\n",
    "\n",
    "\n",
    "our goal is to **find w, b** that makes the prediction function close enough to real data $y_i$ with respect to $x_i$"
   ]
  },
  {
   "attachments": {},
   "cell_type": "markdown",
   "metadata": {},
   "source": [
    "### Solution with only pan and paper \n",
    "\n",
    "#### Step1\n",
    "Let's put all the date $X$ into our predict function\n",
    "$$\n",
    "\\begin{align}\n",
    "&f(1.1;w,b) = 1.1w + b \\quad f(2.5;w,b) = 2.5w + b\\quad  f(2.2;w,b) = 2.7w + b\\quad f(3.2;w,b) = 3.2w + b \\\\\n",
    "&f(5.5;w,b) = 5.5w + b \\quad f(7.7;w,b) = 7.7w + b\\quad  f(8.9;w,b) = 8.9w + b\\quad f(9.2;w,b) = 9.2w + b \\\\\n",
    "\\end{align}\n",
    "$$\n",
    "\n",
    "#### Step2\n",
    "Let's find the each distance from real data $y_i$ to our predict function $f(x_i;w,b) = wx_i + b$\n",
    "$$\n",
    "\\begin{align}\n",
    "&\\sqrt{(17 - f(1.1;w,b))^2} \\quad \\sqrt{(21 - f(2.5;w,b))^2} \\quad \\sqrt{(30 - f(2.7;w,b))^2} \\quad \\sqrt{(27 - f(3.2;w,b))^2} \\\\\n",
    "&\\sqrt{(60 - f(5.5;w,b))^2} \\quad \\sqrt{(85 - f(7.7;w,b))^2} \\quad \\sqrt{(88 - f(8.9;w,b))^2} \\quad \\sqrt{(95 - f(9.2;w,b))^2} \n",
    "\\end{align}\n",
    "$$\n",
    "\n",
    "#### Step3\n",
    "Let's get rid of the square root, because the smallest distance only depends on the value under ther square root.\n",
    "\n",
    "$$\n",
    "\\begin{align}\n",
    "&f_1(w,b;1.1) = (17 - (1.1w +b))^2\\quad f_2(w,b;2.5) = (21 - (2.5w +b))^2\\\\\n",
    "&f_3(w,b;2.7) = (30 - (2.7w +b))^2\\quad f_4(w,b;3.2) = (27 - (3.2w +b))^2\\\\\n",
    "&f_5(w,b;5.5) = (60 - (5.5w +b))^2\\quad f_6(w,b;7.7) = (85 - (7.7w +b))^2\\\\\n",
    "&f_7(w,b;8.9) = (88 - (8.9w +b))^2\\quad f_8(w,b;9.2) = (95 - (9.2w +b))^2 \\\\\n",
    "\\end{align}\n",
    "$$\n",
    "NOTE:we have change the $f(x_i;w,b)$ to $f(w,b;x_i)$, because $w,b$ now is unkown, $x_i$ is known from our real data table;\n",
    "\n",
    "#### Step4\n",
    "Let's find the average distance of our distance function $f(w,b;x_i)$\n",
    "$$\n",
    "\\begin{align}\n",
    "\\lambda(w,b;x_i)= \\text{The Average Distance} = \\frac {1}{8}\\sum_{i=1}^{n=8} f(w,b;x_i), i = 1,2,3,...,n\n",
    "\\end{align}\n",
    "$$\n",
    "we also call **The Average Distance** with fancy name: <b>Loss Function </b>\n",
    "\n",
    "$$\\begin{align}\n",
    "\\lambda(w,b;x_i) =& 1/8( (17 - (1.1w +b))^2 + (21 - (2.5w +b))^2 + \\\\\n",
    "&(30 - (2.7w +b))^2 + (27 - (3.2w +b))^2 +\\\\\n",
    "&(60 - (5.5w +b))^2 + (85 - (7.7w +b))^2 + \\\\\n",
    "&(88 - (8.9w +b))^2 +(95 - (9.2w +b))^2 )\n",
    "\\end{align}$$\n",
    "\n",
    "#### Step 5\n",
    "\n",
    "Let's find the smallest average distance with respect to $w,b$\n",
    "\n",
    "we know that the derivative of a function equals 0 is the optimal point.\n",
    "$$\\begin{align}\n",
    "\\nabla f(w,b;x_i) = ( \\frac{\\partial\\lambda(w,b;x_i)}{\\partial w},\\frac{\\partial\\lambda(w,b;x_i)}{\\partial b}) = 0\n",
    "\\end{align}$$\n",
    "\n",
    "**Hold Your Breath** it is going to be very traditional.\n",
    "\n",
    "Loss Function $\\lambda(w,b;x_i)$ derivative with w\n",
    "$$\\begin{align}\n",
    "\\frac{\\partial\\lambda(w,b;x_i)}{\\partial w} =& 1/8(-2.2(17+b-1.1w) + -5(21+b-2.5w) +\\\\\n",
    "&-5.4(30+b-2.7w) + -6.4(27+b-3.2w) +\\\\\n",
    "&-11(60+b-5.5w) + -15.4(85+b-7.7w) +\\\\\n",
    "&-17.8(88+b-8.9w) + -18.4(95+b-9.2w) ) \\\\\n",
    "\\end{align}$$\n",
    "\n",
    "with pan and paper we finally got results \n",
    "$$\\begin{align}\\frac{\\partial\\lambda(w,b;x_i)}{\\partial w} = -720.1 -10.2b + 69.59w\\end{align}$$\n",
    "\n",
    "Loss Function $\\lambda(w,b;x_i)$ derivative with b\n",
    "\n",
    "$$\\begin{align}\n",
    "\\frac{\\partial\\lambda(w,b;x_i)}{\\partial b} =& 1/8(2(17+b-1.1w) + 2(21+b-2.5w) +\\\\\n",
    "&2(30+b-2.7w) + 2(27+b-3.2w) +\\\\\n",
    "&2(60+b-5.5w) + 2(85+b-7.7w) +\\\\\n",
    "&2(88+b-8.9w) + 2(95+b-9.2w) )\\\\\n",
    "\\end{align}$$\n",
    "\n",
    "with pan and paper we finally got results \n",
    "$$\\begin{align}\\frac{\\partial\\lambda(w,b;x_i)}{\\partial b} = 110.8 + 2.0b - 10.2w\\end{align}$$\n",
    "\n",
    "#### Step 6\n",
    "Finaly Let's Find solve the partial derivative and get $w,b$\n",
    "$$\\begin{align}\n",
    "&\\because -720.1 - 10.2b + 69.59w = 0 \\\\\n",
    "&\\therefore w = (720.1+10.2b)/69.59 \\\\\n",
    "&\\because 110.8 + 2.0b - 10.2w = 0 \\\\\n",
    "&\\therefore 110.8 + 2.0b - 10.2((720.1+10.2b)/69.59 ) = 0 \\\\\n",
    "&\\therefore b = -1.502969 \\\\\n",
    "&\\therefore w=10.127457 \\\\\n",
    "\\end{align}$$\n",
    "So this is our predict model\n",
    "\n",
    "$f(x;w,b) = 10.127457x-1.502969 $\n",
    "\n",
    "Let's check if this function works "
   ]
  },
  {
   "attachments": {},
   "cell_type": "markdown",
   "metadata": {},
   "source": [
    "#### Validation"
   ]
  },
  {
   "cell_type": "code",
   "execution_count": 9,
   "metadata": {},
   "outputs": [
    {
     "name": "stdout",
     "output_type": "stream",
     "text": [
      "dloss/dw = -720.1 + -10.2b + 69.59w = 0\n",
      "dloss/db = 110.8 + 2.0b  -10.2w = 0\n"
     ]
    }
   ],
   "source": [
    "def c():\n",
    "    return -2.2*17 + -5*21 + -5.4*30 + -6.4*27 + -11*60 + -15.4*85 + -17.8*88 + -18.4*95\n",
    "def b():\n",
    "    return -2.2 + -5 + -5.4 + -6.4 + -11 + -15.4 + -17.8 + -18.4\n",
    "def cof():\n",
    "    return 2.2 * 1.1 + 5*2.5 + 5.4*2.7 + 6.4*3.2 + 11*5.5 + 15.4*7.7 + 17.8*8.9 + 18.4*9.2\n",
    "\n",
    "def cb():\n",
    "    return 2*17 + 2*21 + 2*50 + 2*27 + 2*60 + 2*85 + 2*88 + 2*95\n",
    "def bb():\n",
    "    return 2*8\n",
    "def cofb():\n",
    "    return 2 * -1.1 + 2*-2.5 + 2*-2.7 + 2*-3.2 + 2*-5.5 + 2*-7.7 + 2*-8.9 + 2*-9.2\n",
    "\n",
    "print('dloss/dw = %.1f + %.1fb + %.2fw = 0'%(c()/8,b()/8,cof()/8))\n",
    "print('dloss/db = %.1f + %.1fb  %.1fw = 0'%(cb()/8,bb()/8,cofb()/8))\n"
   ]
  },
  {
   "cell_type": "code",
   "execution_count": 10,
   "metadata": {},
   "outputs": [
    {
     "name": "stdout",
     "output_type": "stream",
     "text": [
      "w=10.127457, b=-1.502969\n"
     ]
    }
   ],
   "source": [
    "b = ( (10.2*(720.1))/69.59 -110.8 ) / ( 2.0+(10.2**2)/69.59 )\n",
    "w = (720.1+10.2*b)/69.59\n",
    "print('w=%f, b=%f'%(w,b))"
   ]
  },
  {
   "cell_type": "code",
   "execution_count": 11,
   "metadata": {},
   "outputs": [
    {
     "data": {
      "image/png": "[encoded data removed]",
      "text/plain": [
       "<Figure size 640x480 with 1 Axes>"
      ]
     },
     "metadata": {},
     "output_type": "display_data"
    }
   ],
   "source": [
    "import numpy as np\n",
    "import matplotlib.pyplot as plt\n",
    "\n",
    "X=np.array([1.1, 2.5, 2.5, 3.2, 5.5, 7.7, 8.9, 9.2])\n",
    "#| 17  | 21  | 30  | 27  | 60  | 85  | 88  | 95  |\n",
    "Y=np.array([17, 21, 30, 27, 60, 85, 88, 95])\n",
    "\n",
    "b=-1.502969\n",
    "w=10.127457\n",
    "def predict(x):\n",
    "    return w*x+b\n",
    "plt.scatter(X, Y, color = 'red')\n",
    "plt.plot(X ,predict(X), color ='yellow')\n",
    "plt.show()\n"
   ]
  },
  {
   "attachments": {},
   "cell_type": "markdown",
   "metadata": {},
   "source": [
    "## Implementation\n",
    "\n",
    "1. feed the data to our prediction function $ f(x;w,b) = wx+b $\n",
    "2. add up all the distance between real data and prediction function $ \\sum_{i=1}^{n} (y_{true}-f(w,b;x_i))^2 $\n",
    "3. using <b>nonlinear optimization</b> to find the minimum of w and b"
   ]
  },
  {
   "cell_type": "code",
   "execution_count": 35,
   "metadata": {},
   "outputs": [
    {
     "name": "stdout",
     "output_type": "stream",
     "text": [
      "w=10.205028, b=1.109242\n"
     ]
    },
    {
     "data": {
      "image/png": "[encoded data removed]",
      "text/plain": [
       "<Figure size 640x480 with 1 Axes>"
      ]
     },
     "metadata": {},
     "output_type": "display_data"
    }
   ],
   "source": [
    "import numpy as np\n",
    "import matplotlib.pyplot as plt\n",
    "\n",
    "X=np.array([1.1, 2.5, 2.5, 3.2, 5.5, 7.7, 8.9, 9.2])\n",
    "#| 17  | 21  | 30  | 27  | 60  | 85  | 88  | 95  |\n",
    "Y=np.array([17, 21, 30, 27, 60, 85, 88, 95])\n",
    "\n",
    "#prediction function\n",
    "def predic(x,w,b):\n",
    "    return w*x+b\n",
    "\n",
    " \n",
    "def gradient(f,X,h):\n",
    "    #df has the same length(size) as vector X\n",
    "    df = np.zeros(X.size)\n",
    "    #i mean dimention, axis\n",
    "    for i in range(X.size):\n",
    "        #difference at point x_i\n",
    "        #a1, a2 is a vector like X,\n",
    "        #only differentiate at one axis i, and keep other axis orinal point\n",
    "        a1 = X.copy()\n",
    "        a2 = X.copy()\n",
    "        a1[i] = X[i] - h\n",
    "        a2[i] = X[i] + h\n",
    "        df[i] = ( f(a2) - f(a1) )/(2*h)\n",
    "    return df   \n",
    "\n",
    "def steepest_descent(f,start,step,precision):\n",
    "    f_old = float('Inf')\n",
    "    x = np.array(start)\n",
    "    steps = []\n",
    "    f_new = f(x)\n",
    "    while abs(f_old-f_new)>precision:\n",
    "    #while np.linalg.norm(ad.gh(f)[0](x))>precision: # an alternative stopping rule\n",
    "        f_old = f_new # store value at the current point\n",
    "        d = -gradient(f,x,0.01) # search direction\n",
    "        x = x+d*step # take a step\n",
    "        f_new = f(x) # compute function value at the new point\n",
    "        steps.append(list(x)) # save step\n",
    "    return x,f_new,steps\n",
    "\n",
    "def linear_regression():\n",
    "    F = []\n",
    "    for i in range(0, np.size(X)):\n",
    "        fi = lambda p: (Y[i]-predic(X[i],p[0],p[1]))**2\n",
    "        F.append(fi)\n",
    "    loss = lambda p: sum( fi(p) for fi in F)/8\n",
    "    #print(loss([11,2.5]))\n",
    "    start = [0.0,0.0]\n",
    "    step_size = 0.001\n",
    "    precision = 0.00001\n",
    "    (x_value,f_value,steps) = steepest_descent(loss,start,step_size,precision)\n",
    "    return x_value\n",
    "\n",
    "\n",
    "value = linear_regression()\n",
    "print('w=%f, b=%f'%(value[0],value[1]))\n",
    "plt.scatter(X, Y, color = 'red')\n",
    "plt.plot(X , predic(X,value[0],value[1]), color ='yellow')\n",
    "plt.show()\n"
   ]
  },
  {
   "attachments": {},
   "cell_type": "markdown",
   "metadata": {},
   "source": [
    "### Mathematical Model\n",
    "\n",
    "dataset\n",
    "$$\\begin{align}\n",
    "&x_i = (x_1, x_2, ..., x_n), i = 1,2,...,n \\\\\n",
    "&y_i = (y_1, y_2, ..., y_n), i = 1,2,...,n \\\\\n",
    "\\end{align}$$\n",
    "\n",
    "prediction function\n",
    "$$\\begin{align}\n",
    "&y(x;\\omega,\\beta) = \\omega{x} + \\beta\n",
    "\\end{align}$$\n",
    "\n",
    "loss function\n",
    "$$\\begin{align}\n",
    "&loss(\\omega,\\beta;x) = \\frac{1}{n}\\sum_{i=1}^{n}(y_i-(\\omega{x_i} + \\beta))^2, i=1,2,...,n\n",
    "\\end{align}$$\n",
    "\n",
    "convert to minimization problem\n",
    "$$\\begin{align}\n",
    "&\\min. \\quad loss(\\omega,\\beta;x) \\\\\n",
    "&\\Delta{loss(\\omega,\\beta;x)} = 0 \\\\\n",
    "& \\frac{dloss(\\omega,\\beta;x)}{d\\omega} = 0 \\\\\n",
    "& \\frac{dloss(\\omega,\\beta;x)}{d\\beta} = 0\n",
    "\\end{align}$$\n",
    "\n",
    "\n",
    "Optimiztion: Gradient Decent\n",
    "$$\\begin{align}\n",
    "&\\alpha_{i} = h, \\quad \\lim(h \\to 0), \\quad i=0 \\\\  \n",
    "&\\alpha_{i+1} = \\alpha_{i} - \\gamma{\\Delta{loss(\\omega,\\beta;\\alpha_{i})}} \\\\\n",
    "&\\alpha_{i} =\\alpha_{i+1}, \\quad i = 1 \\\\\n",
    "&\\alpha_{i+1} = \\alpha_{i} - \\gamma{\\Delta{loss(\\omega,\\beta;\\alpha_{i})}} \\\\\n",
    "&...\n",
    "\\end{align}$$"
   ]
  },
  {
   "attachments": {},
   "cell_type": "markdown",
   "metadata": {},
   "source": [
    "### Conclusion\n",
    "In Statistics, It is really important to find relation between data and make it into model. linear regression with one words is to draw a line between data while keep every point to the line has shortest distance.\n"
   ]
  }
 ],
 "metadata": {
  "kernelspec": {
   "display_name": "Python 3",
   "language": "python",
   "name": "python3"
  },
  "language_info": {
   "codemirror_mode": {
    "name": "ipython",
    "version": 3
   },
   "file_extension": ".py",
   "mimetype": "text/x-python",
   "name": "python",
   "nbconvert_exporter": "python",
   "pygments_lexer": "ipython3",
   "version": "3.10.8"
  },
  "vscode": {
   "interpreter": {
    "hash": "aee8b7b246df8f9039afb4144a1f6fd8d2ca17a180786b69acc140d282b71a49"
   }
  }
 },
 "nbformat": 4,
 "nbformat_minor": 2
}
