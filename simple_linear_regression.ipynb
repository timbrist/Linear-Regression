{
 "cells": [
  {
   "cell_type": "markdown",
   "metadata": {},
   "source": [
    "# Simple Liear Regression\n",
    "\n"
   ]
  },
  {
   "attachments": {},
   "cell_type": "markdown",
   "metadata": {},
   "source": [
    "we will discuss the simplest example with reall data and only consider x and y, 2 dimension. "
   ]
  },
  {
   "attachments": {},
   "cell_type": "markdown",
   "metadata": {},
   "source": [
    "### Example\n",
    "\n",
    "in Human Language, it is easily to speak in real case;\n",
    "Let's say you have collect a data of the grade of students get and hours they put in study.\n",
    "\n",
    "| hours(x) | 1.1 | 2.5 | 2.7 | 3.2 | 5.5 | 7.7 | 8.9 | 9.2 |\n",
    "|----------|-----|-----|-----|-----|-----|-----|-----|-----|\n",
    "| grade(y) | 17  | 21  | 30  | 27  | 60  | 85  | 88  | 95  |\n",
    "\n",
    "You <b>assume</b> grade $Y$ and $X$ has a relation that greater x the greater y. So you formulate like for every $y$ equals weight multiply every $x$ and plus b, we call it <b>prediction function</b>.\n",
    "\n",
    "$$\\begin{align}\n",
    "& y(x;w,b) = wx+b \n",
    "\\end{align}$$\n",
    "\n",
    "our goal is to find w, b that makes the prediction function close enough to really data $y_i$\n",
    "\n",
    "$$\\begin{align}\n",
    "& y(1.1;w,b) = 1.1w + b \\\\\n",
    "\\end{align}$$\n",
    "\n",
    "We use distance ( or Mean Square Error,or other method. Distance is easily, every thing should be easily in human language ) to tell how close the prediction to the real data $y$\n",
    "\n",
    "$$\\begin{align}\n",
    "&\\sqrt{(y_1 - y(1.1;w,b))^2} = \\sqrt{(17 - (1.1w +b))^2}\n",
    "\\end{align}$$\n",
    "\n",
    "Because we don't like square root and square root function is a incresing function, we only need to find the smallest number under the square root.\n",
    "\n",
    "$$\\begin{align}\n",
    "&f_1(w,b;1.1) = (17 - (1.1w +b))^2\n",
    "\\end{align}$$\n",
    "\n",
    "you mind notice we have change the $y(1.1;w,b)$ to $f(w,b;1.1)$, because w,b now is unkown, x is known as 1.1;\n",
    "\n",
    "$$\\begin{align}\n",
    "&f_2(w,b;2.5) = (21 - (2.5w +b))^2 \\\\\n",
    "&f_3(w,b;2.7) = (30 - (2.7w +b))^2 \\\\\n",
    "&f_4(w,b;3.2) = (27 - (3.2w +b))^2 \\\\\n",
    "&f_5(w,b;5.5) = (60 - (5.5w +b))^2 \\\\\n",
    "&f_6(w,b;7.7) = (85 - (7.7w +b))^2 \\\\\n",
    "&f_7(w,b;8.9) = (88 - (8.9w +b))^2 \\\\\n",
    "&f_8(w,b;9.2) = (95 - (9.2w +b))^2 \\\\\n",
    "\\end{align}$$\n",
    "\n",
    "Add all the function together, and divided by the total amount, we noted as <b>loss function </b>\n",
    "\n",
    "$$\\begin{align}\n",
    "&loss(w,b;x_i) = \\frac {1}{8}\\sum_{i=1}^{n=8} f(w,b;x_i) \\rightarrow \\\\\n",
    "&loss(w,b;x_i) = \\\\\n",
    "&(17 - (1.1w +b))^2 + (21 - (2.5w +b))^2 + (30 - (2.7w +b))^2 + \\\\\n",
    "&(27 - (3.2w +b))^2 +(60 - (5.5w +b))^2 + (85 - (7.7w +b))^2 + \\\\\n",
    "&(88 - (8.9w +b))^2 +(95 - (9.2w +b))^2\n",
    "\\end{align}$$\n",
    "\n",
    "we know that the derivative of a function equals 0 is the optimal point.\n",
    "\n",
    "$$\\begin{align}\n",
    "& \\frac {d(loss(w,b;x_i))}{dw} = 0  \n",
    "& \\frac {d(loss(w,b;,x_i))}{db} = 0\n",
    "\\end{align}$$\n",
    "\n",
    "we know come to a optimal problems, we use step linear search to find the optimal w and b;\n",
    "\n",
    "$$\\begin{align}\n",
    "& {df_1/dw} = 2.2(17+b-1.1w), \\quad {df_1/db} = 2(17+b-1.1w) \\\\\n",
    "& {df_2/dw} = 5(21+b-2.5w), \\quad {df_2/db} = 2(21+b-2.5w) \\\\\n",
    "& ... \\\\\n",
    "& {df_8/dw} = 18.4(95+b-9.2w), \\quad {df_8/db} = 2(95+b-9.2w) \\\\\n",
    "\\end{align}$$\n"
   ]
  },
  {
   "cell_type": "code",
   "execution_count": 6,
   "metadata": {},
   "outputs": [
    {
     "name": "stdout",
     "output_type": "stream",
     "text": [
      "dloss/dw = 5868.6 + 81.6b - 556.76w = 0\n",
      "dloss/db = 886.0 + 16.0b - 81.6w = 0\n"
     ]
    }
   ],
   "source": [
    "def c():\n",
    "    return 2.2*17 + 5*21 + 5.4*50 + 6.4*27 + 11*60 + 15.4*85 + 17.8*88 + 18.4*95\n",
    "def b():\n",
    "    return 2.2 + 5 + 5.4 + 6.4 + 11 + 15.4 + 17.8 + 18.4\n",
    "def cof():\n",
    "    return 2.2 * 1.1 + 5*2.5 + 5.4*2.7 + 6.4*3.2 + 11*5.5 + 15.4*7.7 + 17.8*8.9 + 18.4*9.2\n",
    "\n",
    "def cb():\n",
    "    return 2*17 + 2*21 + 2*50 + 2*27 + 2*60 + 2*85 + 2*88 + 2*95\n",
    "def bb():\n",
    "    return 2*8\n",
    "def cofb():\n",
    "    return 2 * 1.1 + 2*2.5 + 2*2.7 + 2*3.2 + 2*5.5 + 2*7.7 + 2*8.9 + 2*9.2\n",
    "\n",
    "print('dloss/dw = %.1f + %.1fb - %.2fw = 0'%(c(),b(),cof()))\n",
    "print('dloss/db = %.1f + %.1fb - %.1fw = 0'%(cb(),bb(),cofb()))\n"
   ]
  },
  {
   "attachments": {},
   "cell_type": "markdown",
   "metadata": {},
   "source": [
    "that is a lot of work you see, you now know how important to make it into a model to salve people from doing this chores?\n",
    "$$\\begin{align}\n",
    "& \\frac {d(loss(w,b;x_i))}{dw} = 5868.6 + 81.6b - 556.76w = 0 \\rightarrow \\\\\n",
    "& w = (5868.6 + 81.6b)/556.76 \\\\\n",
    "& \\frac {d(loss(w,b;,x_i))}{db} = 886.0 + 16.0b - 81.6w = 0 \\rightarrow \\\\\n",
    "& b = 81.6( (5868.6 + 81.6b)/556.76 ) - 886.0 \\rightarrow \\\\\n",
    "& b = 556.76*(81.6*5868.6/556.76 - 886.0) / (556.76-81.6**2)\n",
    "\\end{align}$$"
   ]
  },
  {
   "cell_type": "code",
   "execution_count": 10,
   "metadata": {},
   "outputs": [
    {
     "name": "stdout",
     "output_type": "stream",
     "text": [
      "w=10.886788, b=2.361860\n"
     ]
    }
   ],
   "source": [
    "b = 556.76*(81.6*5868.6/556.76 - 886.0) / (556.76-81.6**2)\n",
    "w = (5868.6 + 81.6*b)/556.76\n",
    "print('w=%f, b=%f'%(w,b))"
   ]
  },
  {
   "cell_type": "markdown",
   "metadata": {},
   "source": [
    "So this is our predict model\n",
    "\n",
    "$y(x;w,b) = 10.886788x+2.36186 $\n",
    "\n",
    "Let's check if this function works "
   ]
  },
  {
   "cell_type": "code",
   "execution_count": 2,
   "metadata": {},
   "outputs": [
    {
     "data": {
      "image/png": "[encoded data removed]",
      "text/plain": [
       "<Figure size 640x480 with 1 Axes>"
      ]
     },
     "metadata": {},
     "output_type": "display_data"
    }
   ],
   "source": [
    "import numpy as np\n",
    "import matplotlib.pyplot as plt\n",
    "\n",
    "X=np.array([1.1, 2.5, 2.5, 3.2, 5.5, 7.7, 8.9, 9.2])\n",
    "#| 17  | 21  | 30  | 27  | 60  | 85  | 88  | 95  |\n",
    "Y=np.array([17, 21, 30, 27, 60, 85, 88, 95])\n",
    "\n",
    "b=2.361860\n",
    "w=10.886788\n",
    "def predict(x):\n",
    "    return w*x+b\n",
    "plt.scatter(X, Y, color = 'red')\n",
    "plt.plot(X ,predict(X), color ='yellow')\n",
    "plt.show()\n"
   ]
  },
  {
   "attachments": {},
   "cell_type": "markdown",
   "metadata": {},
   "source": [
    "### Implementation\n",
    "\n",
    "1. feed the data to our prediction function $ f(x;w,b) = wx+b $\n",
    "2. add up all the distance between real data and prediction function $ \\sum_{i=1}^{n} (y_{true}-f(w,b;x_i))^2 $\n",
    "3. using <b>nonlinear optimization</b> to find the minimum of w and b"
   ]
  },
  {
   "cell_type": "code",
   "execution_count": 35,
   "metadata": {},
   "outputs": [
    {
     "name": "stdout",
     "output_type": "stream",
     "text": [
      "w=10.205028, b=1.109242\n"
     ]
    },
    {
     "data": {
      "image/png": "[encoded data removed]",
      "text/plain": [
       "<Figure size 640x480 with 1 Axes>"
      ]
     },
     "metadata": {},
     "output_type": "display_data"
    }
   ],
   "source": [
    "import numpy as np\n",
    "import matplotlib.pyplot as plt\n",
    "\n",
    "X=np.array([1.1, 2.5, 2.5, 3.2, 5.5, 7.7, 8.9, 9.2])\n",
    "#| 17  | 21  | 30  | 27  | 60  | 85  | 88  | 95  |\n",
    "Y=np.array([17, 21, 30, 27, 60, 85, 88, 95])\n",
    "\n",
    "#prediction function\n",
    "def predic(x,w,b):\n",
    "    return w*x+b\n",
    "\n",
    " \n",
    "def gradient(f,X,h):\n",
    "    #df has the same length(size) as vector X\n",
    "    df = np.zeros(X.size)\n",
    "    #i mean dimention, axis\n",
    "    for i in range(X.size):\n",
    "        #difference at point x_i\n",
    "        #a1, a2 is a vector like X,\n",
    "        #only differentiate at one axis i, and keep other axis orinal point\n",
    "        a1 = X.copy()\n",
    "        a2 = X.copy()\n",
    "        a1[i] = X[i] - h\n",
    "        a2[i] = X[i] + h\n",
    "        df[i] = ( f(a2) - f(a1) )/(2*h)\n",
    "    return df   \n",
    "\n",
    "def steepest_descent(f,start,step,precision):\n",
    "    f_old = float('Inf')\n",
    "    x = np.array(start)\n",
    "    steps = []\n",
    "    f_new = f(x)\n",
    "    while abs(f_old-f_new)>precision:\n",
    "    #while np.linalg.norm(ad.gh(f)[0](x))>precision: # an alternative stopping rule\n",
    "        f_old = f_new # store value at the current point\n",
    "        d = -gradient(f,x,0.01) # search direction\n",
    "        x = x+d*step # take a step\n",
    "        f_new = f(x) # compute function value at the new point\n",
    "        steps.append(list(x)) # save step\n",
    "    return x,f_new,steps\n",
    "\n",
    "def linear_regression():\n",
    "    F = []\n",
    "    for i in range(0, np.size(X)):\n",
    "        fi = lambda p: (Y[i]-predic(X[i],p[0],p[1]))**2\n",
    "        F.append(fi)\n",
    "    loss = lambda p: sum( fi(p) for fi in F)/8\n",
    "    #print(loss([11,2.5]))\n",
    "    start = [0.0,0.0]\n",
    "    step_size = 0.001\n",
    "    precision = 0.00001\n",
    "    (x_value,f_value,steps) = steepest_descent(loss,start,step_size,precision)\n",
    "    return x_value\n",
    "\n",
    "\n",
    "value = linear_regression()\n",
    "print('w=%f, b=%f'%(value[0],value[1]))\n",
    "plt.scatter(X, Y, color = 'red')\n",
    "plt.plot(X , predic(X,value[0],value[1]), color ='yellow')\n",
    "plt.show()\n"
   ]
  },
  {
   "attachments": {},
   "cell_type": "markdown",
   "metadata": {},
   "source": [
    "### Mathematical Model\n",
    "\n",
    "dataset\n",
    "$$\\begin{align}\n",
    "&x_i = (x_1, x_2, ..., x_n), i = 1,2,...,n \\\\\n",
    "&y_i = (y_1, y_2, ..., y_n), i = 1,2,...,n \\\\\n",
    "\\end{align}$$\n",
    "\n",
    "prediction function\n",
    "$$\\begin{align}\n",
    "&y(x;\\omega,\\beta) = \\omega{x} + \\beta\n",
    "\\end{align}$$\n",
    "\n",
    "loss function\n",
    "$$\\begin{align}\n",
    "&loss(\\omega,\\beta;x) = \\sum_{i=1}^{n}(y_i-(\\omega{x_i} + \\beta))^2, i=1,2,...,n\n",
    "\\end{align}$$\n",
    "\n",
    "convert to minimization problem\n",
    "$$\\begin{align}\n",
    "&\\min. \\quad loss(\\omega,\\beta;x) \\\\\n",
    "&\\Delta{loss(\\omega,\\beta;x)} = 0 \\\\\n",
    "& \\frac{dloss(\\omega,\\beta;x)}{d\\omega} = 0 \\\\\n",
    "& \\frac{dloss(\\omega,\\beta;x)}{d\\beta} = 0\n",
    "\\end{align}$$\n",
    "\n",
    "\n",
    "Optimiztion: Gradient Decent\n",
    "$$\\begin{align}\n",
    "&\\alpha_{i} = h, \\quad \\lim(h \\to 0), \\quad i=0 \\\\  \n",
    "&\\alpha_{i+1} = \\alpha_{i} - \\gamma{\\Delta{loss(\\omega,\\beta;\\alpha_{i})}} \\\\\n",
    "&\\alpha_{i} =\\alpha_{i+1}, \\quad i = 1 \\\\\n",
    "&\\alpha_{i+1} = \\alpha_{i} - \\gamma{\\Delta{loss(\\omega,\\beta;\\alpha_{i})}} \\\\\n",
    "&...\n",
    "\\end{align}$$"
   ]
  },
  {
   "attachments": {},
   "cell_type": "markdown",
   "metadata": {},
   "source": [
    "### Conclusion\n",
    "In Statistics, It is really important to find relation between data and make it into model. linear regression with one words to sum up is to draw a line between data while keep every point to the line has shortest distance.\n"
   ]
  }
 ],
 "metadata": {
  "kernelspec": {
   "display_name": "Python 3 (ipykernel)",
   "language": "python",
   "name": "python3"
  },
  "language_info": {
   "codemirror_mode": {
    "name": "ipython",
    "version": 3
   },
   "file_extension": ".py",
   "mimetype": "text/x-python",
   "name": "python",
   "nbconvert_exporter": "python",
   "pygments_lexer": "ipython3",
   "version": "3.10.8 (main, Oct 13 2022, 10:19:13) [Clang 12.0.0 (clang-1200.0.32.29)]"
  },
  "vscode": {
   "interpreter": {
    "hash": "aee8b7b246df8f9039afb4144a1f6fd8d2ca17a180786b69acc140d282b71a49"
   }
  }
 },
 "nbformat": 4,
 "nbformat_minor": 2
}
