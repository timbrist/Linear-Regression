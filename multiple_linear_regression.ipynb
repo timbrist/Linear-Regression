{
 "cells": [
  {
   "attachments": {},
   "cell_type": "markdown",
   "metadata": {},
   "source": [
    "# Multiple Liear Regression\n",
    "Shengheng yan"
   ]
  },
  {
   "attachments": {},
   "cell_type": "markdown",
   "metadata": {},
   "source": [
    "\n",
    "### Predict Function\n",
    "$$\n",
    "\\begin{align}\n",
    "\n",
    "y_i = \\beta_0 + \\beta_1x_{i1} + ... +\\beta_jx_{ij} +\\epsilon_i = x_i^T\\beta+\\epsilon_i,\\quad i = 1,2,...,n\n",
    "\n",
    "\\end{align}\n",
    "$$\n",
    "where $x_{ij}$ $i^{th}$ row and $j^{th}$ column\n",
    "\n",
    "### Loss Function\n",
    "$$\n",
    "\\begin{align}\n",
    "\n",
    "\\lambda(\\beta,\\epsilon; x_i) = \\frac{1}{n}\\sum_{i=0}^{n}(y_i - (\\beta_ix_i^T+\\epsilon_i))^2\n",
    "\n",
    "\\end{align}\n",
    "$$"
   ]
  }
 ],
 "metadata": {
  "kernelspec": {
   "display_name": "Python 3",
   "language": "python",
   "name": "python3"
  },
  "language_info": {
   "name": "python",
   "version": "3.10.8"
  },
  "orig_nbformat": 4,
  "vscode": {
   "interpreter": {
    "hash": "aee8b7b246df8f9039afb4144a1f6fd8d2ca17a180786b69acc140d282b71a49"
   }
  }
 },
 "nbformat": 4,
 "nbformat_minor": 2
}
